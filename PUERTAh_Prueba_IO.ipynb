{
  "nbformat": 4,
  "nbformat_minor": 0,
  "metadata": {
    "colab": {
      "provenance": [],
      "authorship_tag": "ABX9TyM5wGkGVCkkr74fX2aQ6ITP",
      "include_colab_link": true
    },
    "kernelspec": {
      "name": "python3",
      "display_name": "Python 3"
    },
    "language_info": {
      "name": "python"
    }
  },
  "cells": [
    {
      "cell_type": "markdown",
      "metadata": {
        "id": "view-in-github",
        "colab_type": "text"
      },
      "source": [
        "<a href=\"https://colab.research.google.com/github/hpuertaz/SegundoEjemplo/blob/main/PUERTAh_Prueba_IO.ipynb\" target=\"_parent\"><img src=\"https://colab.research.google.com/assets/colab-badge.svg\" alt=\"Open In Colab\"/></a>"
      ]
    },
    {
      "cell_type": "markdown",
      "source": [
        "# PRIMER EJERCICIO\n",
        "\n",
        "SUBTÌTULO\n",
        "\n",
        "\n"
      ],
      "metadata": {
        "id": "OQI4ErsT31R-"
      }
    },
    {
      "cell_type": "code",
      "execution_count": 1,
      "metadata": {
        "colab": {
          "base_uri": "https://localhost:8080/"
        },
        "id": "Ph8qrpZM2W-9",
        "outputId": "5ccec2c4-b315-4af3-8ea6-5ec51850c82c"
      },
      "outputs": [
        {
          "output_type": "stream",
          "name": "stdout",
          "text": [
            "Hola Mundo\n"
          ]
        }
      ],
      "source": [
        "print(\"Hola Mundo\")"
      ]
    },
    {
      "cell_type": "markdown",
      "source": [
        "# SEGUNDO EJERCICIO\n"
      ],
      "metadata": {
        "id": "q5Ppz8CY4OEu"
      }
    },
    {
      "cell_type": "code",
      "source": [
        "print(\"Hola, Henry\")"
      ],
      "metadata": {
        "colab": {
          "base_uri": "https://localhost:8080/"
        },
        "id": "QyvtqiKS4Sa4",
        "outputId": "5734194a-389f-42fd-e9b5-ae7c7368798c"
      },
      "execution_count": 2,
      "outputs": [
        {
          "output_type": "stream",
          "name": "stdout",
          "text": [
            "Hola, Henry\n"
          ]
        }
      ]
    }
  ]
}